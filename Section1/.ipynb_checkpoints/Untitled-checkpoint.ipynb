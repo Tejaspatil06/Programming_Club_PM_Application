{
 "cells": [
  {
   "cell_type": "code",
   "execution_count": 1,
   "id": "e8730d25-7f4f-4d19-8dbb-395dc1a7948e",
   "metadata": {},
   "outputs": [],
   "source": [
    "import geopandas as gp\n",
    "import matplotlib as plt\n",
    "from geopandas.tools import sjoin, overlay\n",
    "from osgeo import gdal, gdalnumeric, ogr, osr\n"
   ]
  },
  {
   "cell_type": "code",
   "execution_count": 2,
   "id": "6e5e256e-71b0-408d-ba18-595d025b0977",
   "metadata": {},
   "outputs": [
    {
     "name": "stdout",
     "output_type": "stream",
     "text": [
      "             Area                                           geometry\n",
      "0    3.456753e+01  MULTIPOLYGON (((8135256.290 930182.487, 813526...\n",
      "1    7.658812e+03  MULTIPOLYGON (((10341718.474 1449533.161, 1034...\n",
      "2    1.892556e-01  POLYGON ((8738079.921 1015796.910, 8738024.198...\n",
      "3    1.902834e-01  POLYGON ((8849448.115 1020142.339, 8849498.727...\n",
      "4    2.241790e-02  POLYGON ((8848644.239 1020377.781, 8848625.487...\n",
      "..            ...                                                ...\n",
      "248  3.989549e+01  POLYGON ((9882893.759 2509133.992, 9882948.377...\n",
      "249  2.373425e-03  POLYGON ((7645931.474 2650433.672, 7645911.684...\n",
      "250  1.047913e-05  POLYGON ((7638856.939 2656905.807, 7638854.892...\n",
      "251  6.463230e-04  POLYGON ((7651326.933 2732896.936, 7651501.061...\n",
      "252  3.942950e+06  POLYGON ((7919916.078 2363447.042, 7919893.958...\n",
      "\n",
      "[253 rows x 2 columns]\n"
     ]
    }
   ],
   "source": [
    "shapefile_path = '/Users/tejaspatil/Desktop/PM_APP/Section1/India-State-and-Country-Shapefile-Updated-Jan-2020/India_Country_Boundary.shp'\n",
    "df = gp.read_file(shapefile_path)\n",
    "print(df)"
   ]
  },
  {
   "cell_type": "code",
   "execution_count": 3,
   "id": "dc3273d0-a923-4f3b-9a6b-8ad9628b29ac",
   "metadata": {},
   "outputs": [
    {
     "name": "stdout",
     "output_type": "stream",
     "text": [
      "Number of features: 253\n"
     ]
    },
    {
     "name": "stderr",
     "output_type": "stream",
     "text": [
      "/Users/tejaspatil/miniforge3/lib/python3.10/site-packages/osgeo/ogr.py:601: FutureWarning: Neither ogr.UseExceptions() nor ogr.DontUseExceptions() has been explicitly called. In GDAL 4.0, exceptions will be enabled by default.\n",
      "  warnings.warn(\n"
     ]
    }
   ],
   "source": [
    "#data analysis using osgeo \n",
    "#snipet to find teh number of layer \n",
    "shapefile = ogr.Open(shapefile_path)\n",
    "layer = shapefile.GetLayer()\n",
    "print(f'Number of features: {layer.GetFeatureCount()}')"
   ]
  },
  {
   "cell_type": "code",
   "execution_count": 4,
   "id": "9bde7e0c-d13d-4422-a276-680f1848688a",
   "metadata": {},
   "outputs": [
    {
     "name": "stdout",
     "output_type": "stream",
     "text": [
      "Fields:\n",
      "Area (Real)\n"
     ]
    }
   ],
   "source": [
    "#printing the fields give in the .shp file\n",
    "layer_defn = layer.GetLayerDefn()\n",
    "print(\"Fields:\")\n",
    "for i in range(layer_defn.GetFieldCount()):\n",
    "    field_defn = layer_defn.GetFieldDefn(i)\n",
    "    print(f\"{field_defn.GetName()} ({field_defn.GetTypeName()})\")"
   ]
  },
  {
   "cell_type": "code",
   "execution_count": 8,
   "id": "8cc3fe80-ff95-4294-b23c-e28243664ff5",
   "metadata": {},
   "outputs": [
    {
     "name": "stdout",
     "output_type": "stream",
     "text": [
      "{'Area': 34.5675320818}\n",
      "{'Area': 7658.81187279}\n",
      "{'Area': 0.189255568303}\n",
      "{'Area': 0.190283422955}\n",
      "{'Area': 0.0224179005624}\n",
      "{'Area': 0.0240974283376}\n",
      "{'Area': 0.0320764406827}\n",
      "{'Area': 0.0973228988337}\n",
      "{'Area': 0.0644221213972}\n",
      "{'Area': 0.0173278077422}\n",
      "{'Area': 0.012509554629}\n",
      "{'Area': 0.0987147283053}\n",
      "{'Area': 0.0304823938866}\n",
      "{'Area': 0.0832558995438}\n",
      "{'Area': 0.0442177607528}\n",
      "{'Area': 2.88924045134}\n",
      "{'Area': 0.178592380341}\n",
      "{'Area': 0.982115887554}\n",
      "{'Area': 0.434783013141}\n",
      "{'Area': 0.124310258129}\n"
     ]
    }
   ],
   "source": [
    "#printing out some specific number of area for data analysis, this can be done by iterating for different i for analysing some specific area\n",
    "for i, feature in enumerate(layer):\n",
    "    if i < 20:\n",
    "        print(feature.items())"
   ]
  },
  {
   "cell_type": "code",
   "execution_count": null,
   "id": "f85ff3d7-51bb-4bd9-944b-08acbe2f8162",
   "metadata": {},
   "outputs": [],
   "source": []
  }
 ],
 "metadata": {
  "kernelspec": {
   "display_name": "Python 3 (ipykernel)",
   "language": "python",
   "name": "python3"
  },
  "language_info": {
   "codemirror_mode": {
    "name": "ipython",
    "version": 3
   },
   "file_extension": ".py",
   "mimetype": "text/x-python",
   "name": "python",
   "nbconvert_exporter": "python",
   "pygments_lexer": "ipython3",
   "version": "3.10.12"
  }
 },
 "nbformat": 4,
 "nbformat_minor": 5
}
